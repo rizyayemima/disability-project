{
  "cells": [
    {
      "cell_type": "code",
      "execution_count": null,
      "metadata": {
        "colab": {
          "base_uri": "https://localhost:8080/"
        },
        "id": "ub4lNUxSrAo0",
        "outputId": "55a45954-5725-494f-e04c-abcea5979b6d"
      },
      "outputs": [
        {
          "output_type": "stream",
          "name": "stdout",
          "text": [
            "Mounted at /content/drive\n"
          ]
        }
      ],
      "source": [
        "from google.colab import drive\n",
        "drive.mount('/content/drive')"
      ]
    },
    {
      "cell_type": "code",
      "execution_count": null,
      "metadata": {
        "id": "ZnKy7tPyNNPs"
      },
      "outputs": [],
      "source": [
        "# Libraries\n",
        "import pandas as pd\n",
        "import os\n",
        "from shutil import unpack_archive\n",
        "pd.set_option(\"display.max_columns\", 100)"
      ]
    },
    {
      "cell_type": "code",
      "execution_count": null,
      "metadata": {
        "colab": {
          "base_uri": "https://localhost:8080/"
        },
        "id": "WSFFmuHfOvl_",
        "outputId": "6cc749fc-ac57-4724-f4b4-38073600eb71"
      },
      "outputs": [
        {
          "output_type": "stream",
          "name": "stdout",
          "text": [
            "Looking in indexes: https://pypi.org/simple, https://us-python.pkg.dev/colab-wheels/public/simple/\n",
            "Collecting split-folders\n",
            "  Downloading split_folders-0.5.1-py3-none-any.whl (8.4 kB)\n",
            "Installing collected packages: split-folders\n",
            "Successfully installed split-folders-0.5.1\n"
          ]
        }
      ],
      "source": [
        "!pip install split-folders"
      ]
    },
    {
      "cell_type": "code",
      "execution_count": null,
      "metadata": {
        "id": "LJRtPwMgPMZJ"
      },
      "outputs": [],
      "source": [
        "import splitfolders\n",
        "import matplotlib.pyplot as plt\n",
        "from tensorflow.keras.optimizers import RMSprop\n",
        "from tensorflow.keras.models import Sequential\n",
        "from tensorflow.keras.layers import Conv2D, MaxPooling2D,Conv1D, MaxPooling1D, Flatten, Dropout, Dense, BatchNormalization\n",
        "from tensorflow.keras.preprocessing.image import ImageDataGenerator, array_to_img, img_to_array, load_img\n",
        "from tensorflow.keras.callbacks import ModelCheckpoint, ReduceLROnPlateau"
      ]
    },
    {
      "cell_type": "markdown",
      "metadata": {
        "id": "3DZrs3tbNNPv"
      },
      "source": [
        "## Load Data"
      ]
    },
    {
      "cell_type": "code",
      "execution_count": null,
      "metadata": {
        "id": "YD6KBDnWYS22"
      },
      "outputs": [],
      "source": [
        "# melakukan ekstraksi pada file zip\n",
        "import zipfile,os\n",
        "local_zip = '/content/drive/MyDrive/Learning/DTS/Task/DemoDay/Bahasa Isyarat Indo.zip'\n",
        "zip_ref = zipfile.ZipFile(local_zip, 'r')\n",
        "zip_ref.extractall('/tmp')\n",
        "zip_ref.close()"
      ]
    },
    {
      "cell_type": "code",
      "execution_count": null,
      "metadata": {
        "colab": {
          "base_uri": "https://localhost:8080/",
          "height": 298
        },
        "id": "5AA-5a8Gs0F5",
        "outputId": "79fbab1f-e07e-4266-a0de-030112af0a52"
      },
      "outputs": [
        {
          "output_type": "execute_result",
          "data": {
            "text/plain": [
              "<BarContainer object of 26 artists>"
            ]
          },
          "metadata": {},
          "execution_count": 6
        },
        {
          "output_type": "display_data",
          "data": {
            "text/plain": [
              "<Figure size 432x288 with 1 Axes>"
            ],
            "image/png": "[encoded data removed]"
          },
          "metadata": {
            "needs_background": "light"
          }
        }
      ],
      "source": [
        "from string import ascii_uppercase\n",
        "\n",
        "alphabets = [az for az in ascii_uppercase]\n",
        "counts = [sum(os.path.isfile(os.path.join('/tmp/Citra BISINDO/'+az, f)) for f in os.listdir('/tmp/Citra BISINDO/'+az)) for az in ascii_uppercase]\n",
        "\n",
        "plt.title('Count')\n",
        "plt.bar(alphabets, counts, alpha=0.6, bottom=2, linewidth=2)"
      ]
    },
    {
      "cell_type": "markdown",
      "metadata": {
        "id": "7DOJdz_cYS23"
      },
      "source": [
        "## Data Preprocessing"
      ]
    },
    {
      "cell_type": "code",
      "source": [
        "datagen = ImageDataGenerator(\n",
        "                    rotation_range =15, \n",
        "                    width_shift_range = 0.2, \n",
        "                    height_shift_range = 0.2,  \n",
        "                    shear_range=0.2, \n",
        "                    zoom_range=0.2, \n",
        "                    fill_mode = 'nearest', \n",
        "                    brightness_range=[0.5, 1.5]\n",
        ") "
      ],
      "metadata": {
        "id": "hZSSEQDHC7m0"
      },
      "execution_count": null,
      "outputs": []
    },
    {
      "cell_type": "code",
      "source": [
        "from tqdm import tqdm"
      ],
      "metadata": {
        "id": "KTQxyhqHOz6a"
      },
      "execution_count": null,
      "outputs": []
    },
    {
      "cell_type": "code",
      "source": [
        "for folder in alphabets:\n",
        "  for f in os.listdir('/tmp/Citra BISINDO/'+folder):\n",
        "    filename='/tmp/Citra BISINDO/'+folder+'/'+f\n",
        "\n",
        "    img = load_img(filename)\n",
        "    x = img_to_array(img) \n",
        "    # Reshape the input image \n",
        "    x = x.reshape((1, ) + x.shape)  \n",
        "    i = 0\n",
        "\n",
        "    # generate 5 new augmented images \n",
        "    for batch in datagen.flow(x, batch_size = 1, \n",
        "                      save_to_dir ='/tmp/Citra BISINDO/'+folder,  \n",
        "                      save_prefix ='aug', save_format ='jpg'):\n",
        "        i += 1\n",
        "        if i > 5: \n",
        "            break"
      ],
      "metadata": {
        "id": "ZLhO6biJD8b2"
      },
      "execution_count": null,
      "outputs": []
    },
    {
      "cell_type": "markdown",
      "source": [
        "### Checkpoint"
      ],
      "metadata": {
        "id": "NcQbxIRAVX_a"
      }
    },
    {
      "cell_type": "code",
      "source": [
        "!cp -r /tmp/Citra\\ BISINDO/ /content/drive/MyDrive/Learning/DTS/Task/DemoDay/"
      ],
      "metadata": {
        "id": "RTiD0WUAK5Da"
      },
      "execution_count": null,
      "outputs": []
    },
    {
      "cell_type": "code",
      "source": [
        "from string import ascii_uppercase\n",
        "\n",
        "alphabets = [az for az in ascii_uppercase]\n",
        "counts = [sum(os.path.isfile(os.path.join('/tmp/Citra BISINDO/'+az, f)) for f in os.listdir('/tmp/Citra BISINDO/'+az)) for az in ascii_uppercase]\n",
        "\n",
        "plt.title('Count')\n",
        "plt.bar(alphabets, counts, alpha=0.6, bottom=2, linewidth=2)"
      ],
      "metadata": {
        "colab": {
          "base_uri": "https://localhost:8080/",
          "height": 298
        },
        "id": "nSXkYiQINxQc",
        "outputId": "ec6613ac-4dfe-4f46-a4ae-4552f416a6b0"
      },
      "execution_count": null,
      "outputs": [
        {
          "output_type": "execute_result",
          "data": {
            "text/plain": [
              "<BarContainer object of 26 artists>"
            ]
          },
          "metadata": {},
          "execution_count": 15
        },
        {
          "output_type": "display_data",
          "data": {
            "text/plain": [
              "<Figure size 432x288 with 1 Axes>"
            ],
            "image/png": "[encoded data removed]"
          },
          "metadata": {
            "needs_background": "light"
          }
        }
      ]
    },
    {
      "cell_type": "code",
      "execution_count": null,
      "metadata": {
        "colab": {
          "base_uri": "https://localhost:8080/"
        },
        "id": "KwZ-0ykHNNP-",
        "outputId": "1066c752-16ff-4af0-d37c-2269a8a37c83"
      },
      "outputs": [
        {
          "output_type": "stream",
          "name": "stderr",
          "text": [
            "Copying files: 2173 files [00:00, 2830.85 files/s]\n"
          ]
        }
      ],
      "source": [
        "splitfolders.ratio('/tmp/Citra BISINDO/', output=\"/content/split\", seed=1, ratio=(.8, .2))\n",
        "base_dir = '/content/split/'\n",
        "train_dir = os.path.join(base_dir, 'train')\n",
        "valid_dir = os.path.join(base_dir, 'val')"
      ]
    },
    {
      "cell_type": "code",
      "execution_count": null,
      "metadata": {
        "id": "ekzXg7HBNNQB"
      },
      "outputs": [],
      "source": [
        "train_datagen = ImageDataGenerator(\n",
        "                    rescale=1./255,\n",
        "                    #other augmentations have been done before to handle lack of data\n",
        "                )\n",
        "\n",
        "valid_datagen = ImageDataGenerator(\n",
        "                    rescale=1./255)"
      ]
    },
    {
      "cell_type": "code",
      "execution_count": null,
      "metadata": {
        "colab": {
          "base_uri": "https://localhost:8080/"
        },
        "id": "zvMdAHwrYS27",
        "outputId": "e6cde023-31b5-4663-f5e5-7ca412d3ab4a"
      },
      "outputs": [
        {
          "output_type": "stream",
          "name": "stdout",
          "text": [
            "Found 1731 images belonging to 26 classes.\n",
            "Found 442 images belonging to 26 classes.\n"
          ]
        }
      ],
      "source": [
        "train_generator = train_datagen.flow_from_directory(train_dir,\n",
        "                                                    batch_size = 20,\n",
        "                                                    class_mode = 'categorical',\n",
        "                                                    # color_mode = 'grayscale',\n",
        "                                                    target_size = (150, 150))\n",
        "# Flow validation images in batches of 20 using test_datagen generator\n",
        "validation_generator = valid_datagen.flow_from_directory(valid_dir,\n",
        "                                                         batch_size = 20,\n",
        "                                                         class_mode = 'categorical',\n",
        "                                                        #  color_mode = 'grayscale',\n",
        "                                                         target_size = (150, 150))"
      ]
    },
    {
      "cell_type": "code",
      "execution_count": null,
      "metadata": {
        "colab": {
          "base_uri": "https://localhost:8080/",
          "height": 264
        },
        "id": "uLAaDp6OYS27",
        "outputId": "0dbef58e-d7ae-49f3-d1b3-53d34387d60c"
      },
      "outputs": [
        {
          "output_type": "display_data",
          "data": {
            "text/plain": [
              "<Figure size 432x288 with 1 Axes>"
            ],
            "image/png": "[encoded data removed]"
          },
          "metadata": {}
        }
      ],
      "source": [
        "labels = ['Train data', 'Validation data']\n",
        "values = [len(train_generator.filenames), len(validation_generator.filenames)]\n",
        "plt.pie(values, labels=labels, autopct='%1.1f%%', shadow=True, explode=(0, 0.05))\n",
        "plt.axis('equal')\n",
        "plt.title('Count')\n",
        "plt.show()"
      ]
    },
    {
      "cell_type": "markdown",
      "metadata": {
        "id": "776AnflSNNQD"
      },
      "source": [
        "## Training Model"
      ]
    },
    {
      "cell_type": "code",
      "execution_count": null,
      "metadata": {
        "colab": {
          "base_uri": "https://localhost:8080/"
        },
        "id": "aEwCivtOhUFT",
        "outputId": "1746a8d3-98cf-4de6-9142-d191d8c6e935"
      },
      "outputs": [
        {
          "output_type": "stream",
          "name": "stdout",
          "text": [
            "Model: \"sequential_1\"\n",
            "_________________________________________________________________\n",
            " Layer (type)                Output Shape              Param #   \n",
            "=================================================================\n",
            " conv2d_4 (Conv2D)           (None, 148, 148, 32)      896       \n",
            "                                                                 \n",
            " max_pooling2d_4 (MaxPooling  (None, 74, 74, 32)       0         \n",
            " 2D)                                                             \n",
            "                                                                 \n",
            " conv2d_5 (Conv2D)           (None, 72, 72, 32)        9248      \n",
            "                                                                 \n",
            " max_pooling2d_5 (MaxPooling  (None, 36, 36, 32)       0         \n",
            " 2D)                                                             \n",
            "                                                                 \n",
            " conv2d_6 (Conv2D)           (None, 34, 34, 64)        18496     \n",
            "                                                                 \n",
            " max_pooling2d_6 (MaxPooling  (None, 17, 17, 64)       0         \n",
            " 2D)                                                             \n",
            "                                                                 \n",
            " conv2d_7 (Conv2D)           (None, 15, 15, 64)        36928     \n",
            "                                                                 \n",
            " max_pooling2d_7 (MaxPooling  (None, 7, 7, 64)         0         \n",
            " 2D)                                                             \n",
            "                                                                 \n",
            " flatten_1 (Flatten)         (None, 3136)              0         \n",
            "                                                                 \n",
            " dense_2 (Dense)             (None, 512)               1606144   \n",
            "                                                                 \n",
            " dropout_1 (Dropout)         (None, 512)               0         \n",
            "                                                                 \n",
            " dense_3 (Dense)             (None, 26)                13338     \n",
            "                                                                 \n",
            "=================================================================\n",
            "Total params: 1,685,050\n",
            "Trainable params: 1,685,050\n",
            "Non-trainable params: 0\n",
            "_________________________________________________________________\n"
          ]
        }
      ],
      "source": [
        "model = Sequential()\n",
        "model.add(Conv2D(32, kernel_size=(3,3), activation = 'relu', input_shape=(150, 150 ,3) ))\n",
        "model.add(MaxPooling2D(pool_size = (2, 2)))\n",
        "\n",
        "model.add(Conv2D(32, kernel_size = (3, 3), activation = 'relu'))\n",
        "model.add(MaxPooling2D(pool_size = (2, 2)))\n",
        "\n",
        "model.add(Conv2D(64, kernel_size = (3, 3), activation = 'relu'))\n",
        "model.add(MaxPooling2D(pool_size = (2, 2)))\n",
        "\n",
        "model.add(Conv2D(64, kernel_size = (3, 3), activation = 'relu'))\n",
        "model.add(MaxPooling2D(pool_size = (2, 2)))\n",
        "\n",
        "model.add(Flatten())\n",
        "model.add(Dense(512, activation = 'relu'))\n",
        "model.add(Dropout(0.20))\n",
        "\n",
        "model.add(Dense(26, activation = 'softmax'))\n",
        "\n",
        "model.summary()"
      ]
    },
    {
      "cell_type": "code",
      "execution_count": null,
      "metadata": {
        "id": "hAmSb7AfNNQI"
      },
      "outputs": [],
      "source": [
        "model.compile(loss='categorical_crossentropy',\n",
        "  optimizer='adam',\n",
        "  metrics=['accuracy'])"
      ]
    },
    {
      "cell_type": "code",
      "execution_count": null,
      "metadata": {
        "id": "IzOFix84TN9e"
      },
      "outputs": [],
      "source": [
        "best_model_path = 'model.h5'\n",
        "chp_callback = ModelCheckpoint(best_model_path,\n",
        "                               monitor='val_accuracy',\n",
        "                               save_best_only=True,\n",
        "                               verbose=5)\n",
        "rdc_callback = ReduceLROnPlateau(monitor='val_accuracy',\n",
        "                                 patience=3,\n",
        "                                 factor=0.5,\n",
        "                                 min_lr=0.001,\n",
        "                                 verbose=5)\n",
        "callbacks_list = [chp_callback, rdc_callback]"
      ]
    },
    {
      "cell_type": "code",
      "execution_count": null,
      "metadata": {
        "colab": {
          "base_uri": "https://localhost:8080/"
        },
        "id": "E6VYAA-iNNQM",
        "outputId": "e314cead-6e68-4e06-85e0-f096e1dcaaa5"
      },
      "outputs": [
        {
          "output_type": "stream",
          "name": "stdout",
          "text": [
            "Epoch 1/50\n",
            "27/27 [==============================] - ETA: 0s - loss: 3.2699 - accuracy: 0.0389\n",
            "Epoch 1: val_accuracy improved from -inf to 0.03333, saving model to model.h5\n",
            "27/27 [==============================] - 23s 840ms/step - loss: 3.2699 - accuracy: 0.0389 - val_loss: 3.2584 - val_accuracy: 0.0333 - lr: 0.0010\n",
            "Epoch 2/50\n",
            "27/27 [==============================] - ETA: 0s - loss: 3.2583 - accuracy: 0.0500\n",
            "Epoch 2: val_accuracy improved from 0.03333 to 0.05000, saving model to model.h5\n",
            "27/27 [==============================] - 17s 639ms/step - loss: 3.2583 - accuracy: 0.0500 - val_loss: 3.2565 - val_accuracy: 0.0500 - lr: 0.0010\n",
            "Epoch 3/50\n",
            "27/27 [==============================] - ETA: 0s - loss: 3.2451 - accuracy: 0.0648\n",
            "Epoch 3: val_accuracy improved from 0.05000 to 0.08333, saving model to model.h5\n",
            "27/27 [==============================] - 17s 653ms/step - loss: 3.2451 - accuracy: 0.0648 - val_loss: 3.1443 - val_accuracy: 0.0833 - lr: 0.0010\n",
            "Epoch 4/50\n",
            "27/27 [==============================] - ETA: 0s - loss: 2.9999 - accuracy: 0.1259\n",
            "Epoch 4: val_accuracy improved from 0.08333 to 0.17500, saving model to model.h5\n",
            "27/27 [==============================] - 19s 674ms/step - loss: 2.9999 - accuracy: 0.1259 - val_loss: 2.7678 - val_accuracy: 0.1750 - lr: 0.0010\n",
            "Epoch 5/50\n",
            "27/27 [==============================] - ETA: 0s - loss: 2.7080 - accuracy: 0.1722\n",
            "Epoch 5: val_accuracy improved from 0.17500 to 0.24167, saving model to model.h5\n",
            "27/27 [==============================] - 18s 663ms/step - loss: 2.7080 - accuracy: 0.1722 - val_loss: 2.4575 - val_accuracy: 0.2417 - lr: 0.0010\n",
            "Epoch 6/50\n",
            "27/27 [==============================] - ETA: 0s - loss: 2.4591 - accuracy: 0.2426\n",
            "Epoch 6: val_accuracy improved from 0.24167 to 0.28333, saving model to model.h5\n",
            "27/27 [==============================] - 19s 717ms/step - loss: 2.4591 - accuracy: 0.2426 - val_loss: 2.4637 - val_accuracy: 0.2833 - lr: 0.0010\n",
            "Epoch 7/50\n",
            "27/27 [==============================] - ETA: 0s - loss: 2.1620 - accuracy: 0.3616\n",
            "Epoch 7: val_accuracy improved from 0.28333 to 0.43333, saving model to model.h5\n",
            "27/27 [==============================] - 19s 709ms/step - loss: 2.1620 - accuracy: 0.3616 - val_loss: 2.0070 - val_accuracy: 0.4333 - lr: 0.0010\n",
            "Epoch 8/50\n",
            "27/27 [==============================] - ETA: 0s - loss: 1.9495 - accuracy: 0.3981\n",
            "Epoch 8: val_accuracy did not improve from 0.43333\n",
            "27/27 [==============================] - 16s 609ms/step - loss: 1.9495 - accuracy: 0.3981 - val_loss: 1.8399 - val_accuracy: 0.4083 - lr: 0.0010\n",
            "Epoch 9/50\n",
            "27/27 [==============================] - ETA: 0s - loss: 1.5878 - accuracy: 0.5222\n",
            "Epoch 9: val_accuracy improved from 0.43333 to 0.58333, saving model to model.h5\n",
            "27/27 [==============================] - 17s 633ms/step - loss: 1.5878 - accuracy: 0.5222 - val_loss: 1.5607 - val_accuracy: 0.5833 - lr: 0.0010\n",
            "Epoch 10/50\n",
            "27/27 [==============================] - ETA: 0s - loss: 1.5035 - accuracy: 0.5426\n",
            "Epoch 10: val_accuracy did not improve from 0.58333\n",
            "27/27 [==============================] - 19s 735ms/step - loss: 1.5035 - accuracy: 0.5426 - val_loss: 1.5466 - val_accuracy: 0.5333 - lr: 0.0010\n",
            "Epoch 11/50\n",
            "27/27 [==============================] - ETA: 0s - loss: 1.1985 - accuracy: 0.6389\n",
            "Epoch 11: val_accuracy did not improve from 0.58333\n",
            "27/27 [==============================] - 19s 705ms/step - loss: 1.1985 - accuracy: 0.6389 - val_loss: 1.6468 - val_accuracy: 0.5083 - lr: 0.0010\n",
            "Epoch 12/50\n",
            "27/27 [==============================] - ETA: 0s - loss: 1.1333 - accuracy: 0.6574\n",
            "Epoch 12: val_accuracy improved from 0.58333 to 0.63333, saving model to model.h5\n",
            "27/27 [==============================] - 17s 641ms/step - loss: 1.1333 - accuracy: 0.6574 - val_loss: 1.3196 - val_accuracy: 0.6333 - lr: 0.0010\n",
            "Epoch 13/50\n",
            "27/27 [==============================] - ETA: 0s - loss: 0.9904 - accuracy: 0.6796\n",
            "Epoch 13: val_accuracy improved from 0.63333 to 0.65000, saving model to model.h5\n",
            "27/27 [==============================] - 16s 593ms/step - loss: 0.9904 - accuracy: 0.6796 - val_loss: 1.3689 - val_accuracy: 0.6500 - lr: 0.0010\n",
            "Epoch 14/50\n",
            "27/27 [==============================] - ETA: 0s - loss: 0.8137 - accuracy: 0.7741\n",
            "Epoch 14: val_accuracy did not improve from 0.65000\n",
            "27/27 [==============================] - 18s 653ms/step - loss: 0.8137 - accuracy: 0.7741 - val_loss: 1.5844 - val_accuracy: 0.5333 - lr: 0.0010\n",
            "Epoch 15/50\n",
            "27/27 [==============================] - ETA: 0s - loss: 0.7271 - accuracy: 0.7815\n",
            "Epoch 15: val_accuracy did not improve from 0.65000\n",
            "27/27 [==============================] - 19s 724ms/step - loss: 0.7271 - accuracy: 0.7815 - val_loss: 1.3391 - val_accuracy: 0.5917 - lr: 0.0010\n",
            "Epoch 16/50\n",
            "27/27 [==============================] - ETA: 0s - loss: 0.5471 - accuracy: 0.8204\n",
            "Epoch 16: val_accuracy improved from 0.65000 to 0.69167, saving model to model.h5\n",
            "27/27 [==============================] - 19s 707ms/step - loss: 0.5471 - accuracy: 0.8204 - val_loss: 1.3740 - val_accuracy: 0.6917 - lr: 0.0010\n",
            "Epoch 17/50\n",
            "27/27 [==============================] - ETA: 0s - loss: 0.6213 - accuracy: 0.7966\n",
            "Epoch 17: val_accuracy did not improve from 0.69167\n",
            "27/27 [==============================] - 18s 660ms/step - loss: 0.6213 - accuracy: 0.7966 - val_loss: 1.3918 - val_accuracy: 0.6000 - lr: 0.0010\n",
            "Epoch 18/50\n",
            "27/27 [==============================] - ETA: 0s - loss: 0.5493 - accuracy: 0.8241\n",
            "Epoch 18: val_accuracy did not improve from 0.69167\n",
            "27/27 [==============================] - 17s 599ms/step - loss: 0.5493 - accuracy: 0.8241 - val_loss: 1.4151 - val_accuracy: 0.6083 - lr: 0.0010\n",
            "Epoch 19/50\n",
            "27/27 [==============================] - ETA: 0s - loss: 0.4606 - accuracy: 0.8648\n",
            "Epoch 19: val_accuracy improved from 0.69167 to 0.70000, saving model to model.h5\n",
            "27/27 [==============================] - 18s 660ms/step - loss: 0.4606 - accuracy: 0.8648 - val_loss: 1.0664 - val_accuracy: 0.7000 - lr: 0.0010\n",
            "Epoch 20/50\n",
            "27/27 [==============================] - ETA: 0s - loss: 0.4444 - accuracy: 0.8795\n",
            "Epoch 20: val_accuracy did not improve from 0.70000\n",
            "27/27 [==============================] - 19s 702ms/step - loss: 0.4444 - accuracy: 0.8795 - val_loss: 1.2127 - val_accuracy: 0.6583 - lr: 0.0010\n",
            "Epoch 21/50\n",
            "27/27 [==============================] - ETA: 0s - loss: 0.3549 - accuracy: 0.8852\n",
            "Epoch 21: val_accuracy did not improve from 0.70000\n",
            "27/27 [==============================] - 17s 626ms/step - loss: 0.3549 - accuracy: 0.8852 - val_loss: 1.5230 - val_accuracy: 0.6583 - lr: 0.0010\n",
            "Epoch 22/50\n",
            "27/27 [==============================] - ETA: 0s - loss: 0.3446 - accuracy: 0.8851\n",
            "Epoch 22: val_accuracy did not improve from 0.70000\n",
            "27/27 [==============================] - 19s 731ms/step - loss: 0.3446 - accuracy: 0.8851 - val_loss: 1.8628 - val_accuracy: 0.6333 - lr: 0.0010\n",
            "Epoch 23/50\n",
            "27/27 [==============================] - ETA: 0s - loss: 0.2911 - accuracy: 0.9019\n",
            "Epoch 23: val_accuracy improved from 0.70000 to 0.75833, saving model to model.h5\n",
            "27/27 [==============================] - 17s 638ms/step - loss: 0.2911 - accuracy: 0.9019 - val_loss: 1.2173 - val_accuracy: 0.7583 - lr: 0.0010\n",
            "Epoch 24/50\n",
            "27/27 [==============================] - ETA: 0s - loss: 0.2908 - accuracy: 0.9093\n",
            "Epoch 24: val_accuracy did not improve from 0.75833\n",
            "27/27 [==============================] - 17s 614ms/step - loss: 0.2908 - accuracy: 0.9093 - val_loss: 1.8424 - val_accuracy: 0.6250 - lr: 0.0010\n",
            "Epoch 25/50\n",
            "27/27 [==============================] - ETA: 0s - loss: 0.2733 - accuracy: 0.9148\n",
            "Epoch 25: val_accuracy did not improve from 0.75833\n",
            "27/27 [==============================] - 19s 703ms/step - loss: 0.2733 - accuracy: 0.9148 - val_loss: 1.2852 - val_accuracy: 0.7333 - lr: 0.0010\n",
            "Epoch 26/50\n",
            "27/27 [==============================] - ETA: 0s - loss: 0.1380 - accuracy: 0.9548\n",
            "Epoch 26: val_accuracy did not improve from 0.75833\n",
            "27/27 [==============================] - 16s 602ms/step - loss: 0.1380 - accuracy: 0.9548 - val_loss: 1.3063 - val_accuracy: 0.6917 - lr: 0.0010\n",
            "Epoch 27/50\n",
            "27/27 [==============================] - ETA: 0s - loss: 0.1862 - accuracy: 0.9556\n",
            "Epoch 27: val_accuracy did not improve from 0.75833\n",
            "27/27 [==============================] - 17s 651ms/step - loss: 0.1862 - accuracy: 0.9556 - val_loss: 1.3272 - val_accuracy: 0.6833 - lr: 0.0010\n",
            "Epoch 28/50\n",
            "27/27 [==============================] - ETA: 0s - loss: 0.1490 - accuracy: 0.9454\n",
            "Epoch 28: val_accuracy did not improve from 0.75833\n",
            "27/27 [==============================] - 16s 613ms/step - loss: 0.1490 - accuracy: 0.9454 - val_loss: 1.1892 - val_accuracy: 0.7417 - lr: 0.0010\n",
            "Epoch 29/50\n",
            "27/27 [==============================] - ETA: 0s - loss: 0.1654 - accuracy: 0.9463\n",
            "Epoch 29: val_accuracy improved from 0.75833 to 0.80000, saving model to model.h5\n",
            "27/27 [==============================] - 20s 746ms/step - loss: 0.1654 - accuracy: 0.9463 - val_loss: 1.0215 - val_accuracy: 0.8000 - lr: 0.0010\n",
            "Epoch 30/50\n",
            "27/27 [==============================] - ETA: 0s - loss: 0.1523 - accuracy: 0.9537\n",
            "Epoch 30: val_accuracy did not improve from 0.80000\n",
            "27/27 [==============================] - 19s 688ms/step - loss: 0.1523 - accuracy: 0.9537 - val_loss: 1.5435 - val_accuracy: 0.6583 - lr: 0.0010\n",
            "Epoch 31/50\n",
            "27/27 [==============================] - ETA: 0s - loss: 0.1442 - accuracy: 0.9537\n",
            "Epoch 31: val_accuracy did not improve from 0.80000\n",
            "27/27 [==============================] - 22s 824ms/step - loss: 0.1442 - accuracy: 0.9537 - val_loss: 1.2804 - val_accuracy: 0.6917 - lr: 0.0010\n",
            "Epoch 32/50\n",
            "27/27 [==============================] - ETA: 0s - loss: 0.1450 - accuracy: 0.9510\n",
            "Epoch 32: val_accuracy did not improve from 0.80000\n",
            "27/27 [==============================] - 18s 663ms/step - loss: 0.1450 - accuracy: 0.9510 - val_loss: 0.8902 - val_accuracy: 0.7250 - lr: 0.0010\n",
            "Epoch 33/50\n",
            "27/27 [==============================] - ETA: 0s - loss: 0.1493 - accuracy: 0.9529\n",
            "Epoch 33: val_accuracy did not improve from 0.80000\n",
            "27/27 [==============================] - 18s 680ms/step - loss: 0.1493 - accuracy: 0.9529 - val_loss: 1.2754 - val_accuracy: 0.7917 - lr: 0.0010\n",
            "Epoch 34/50\n",
            "27/27 [==============================] - ETA: 0s - loss: 0.0951 - accuracy: 0.9586\n",
            "Epoch 34: val_accuracy did not improve from 0.80000\n",
            "27/27 [==============================] - 18s 663ms/step - loss: 0.0951 - accuracy: 0.9586 - val_loss: 1.8771 - val_accuracy: 0.6500 - lr: 0.0010\n",
            "Epoch 35/50\n",
            "27/27 [==============================] - ETA: 0s - loss: 0.0996 - accuracy: 0.9755\n",
            "Epoch 35: val_accuracy did not improve from 0.80000\n",
            "27/27 [==============================] - 16s 610ms/step - loss: 0.0996 - accuracy: 0.9755 - val_loss: 1.4542 - val_accuracy: 0.6833 - lr: 0.0010\n",
            "Epoch 36/50\n",
            "27/27 [==============================] - ETA: 0s - loss: 0.1066 - accuracy: 0.9685\n",
            "Epoch 36: val_accuracy did not improve from 0.80000\n",
            "27/27 [==============================] - 16s 582ms/step - loss: 0.1066 - accuracy: 0.9685 - val_loss: 1.4087 - val_accuracy: 0.7083 - lr: 0.0010\n",
            "Epoch 37/50\n",
            "27/27 [==============================] - ETA: 0s - loss: 0.1176 - accuracy: 0.9648\n",
            "Epoch 37: val_accuracy did not improve from 0.80000\n",
            "27/27 [==============================] - 20s 749ms/step - loss: 0.1176 - accuracy: 0.9648 - val_loss: 1.1026 - val_accuracy: 0.7917 - lr: 0.0010\n",
            "Epoch 38/50\n",
            "27/27 [==============================] - ETA: 0s - loss: 0.1309 - accuracy: 0.9556\n",
            "Epoch 38: val_accuracy did not improve from 0.80000\n",
            "27/27 [==============================] - 18s 675ms/step - loss: 0.1309 - accuracy: 0.9556 - val_loss: 1.9496 - val_accuracy: 0.6583 - lr: 0.0010\n",
            "Epoch 39/50\n",
            "27/27 [==============================] - ETA: 0s - loss: 0.0792 - accuracy: 0.9718\n",
            "Epoch 39: val_accuracy did not improve from 0.80000\n",
            "27/27 [==============================] - 18s 684ms/step - loss: 0.0792 - accuracy: 0.9718 - val_loss: 1.8557 - val_accuracy: 0.6833 - lr: 0.0010\n",
            "Epoch 40/50\n",
            "27/27 [==============================] - ETA: 0s - loss: 0.0992 - accuracy: 0.9630\n",
            "Epoch 40: val_accuracy did not improve from 0.80000\n",
            "27/27 [==============================] - 18s 676ms/step - loss: 0.0992 - accuracy: 0.9630 - val_loss: 1.5890 - val_accuracy: 0.7500 - lr: 0.0010\n",
            "Epoch 41/50\n",
            "27/27 [==============================] - ETA: 0s - loss: 0.1210 - accuracy: 0.9630\n",
            "Epoch 41: val_accuracy did not improve from 0.80000\n",
            "27/27 [==============================] - 17s 635ms/step - loss: 0.1210 - accuracy: 0.9630 - val_loss: 1.8289 - val_accuracy: 0.7333 - lr: 0.0010\n",
            "Epoch 42/50\n",
            "27/27 [==============================] - ETA: 0s - loss: 0.1004 - accuracy: 0.9586\n",
            "Epoch 42: val_accuracy did not improve from 0.80000\n",
            "27/27 [==============================] - 17s 627ms/step - loss: 0.1004 - accuracy: 0.9586 - val_loss: 1.7435 - val_accuracy: 0.7250 - lr: 0.0010\n",
            "Epoch 43/50\n",
            "27/27 [==============================] - ETA: 0s - loss: 0.0803 - accuracy: 0.9741\n",
            "Epoch 43: val_accuracy did not improve from 0.80000\n",
            "27/27 [==============================] - 21s 771ms/step - loss: 0.0803 - accuracy: 0.9741 - val_loss: 1.1202 - val_accuracy: 0.7583 - lr: 0.0010\n",
            "Epoch 44/50\n",
            "27/27 [==============================] - ETA: 0s - loss: 0.0895 - accuracy: 0.9630\n",
            "Epoch 44: val_accuracy did not improve from 0.80000\n",
            "27/27 [==============================] - 17s 642ms/step - loss: 0.0895 - accuracy: 0.9630 - val_loss: 1.2866 - val_accuracy: 0.7417 - lr: 0.0010\n",
            "Epoch 45/50\n",
            "27/27 [==============================] - ETA: 0s - loss: 0.0641 - accuracy: 0.9815\n",
            "Epoch 45: val_accuracy did not improve from 0.80000\n",
            "27/27 [==============================] - 17s 634ms/step - loss: 0.0641 - accuracy: 0.9815 - val_loss: 1.1885 - val_accuracy: 0.7667 - lr: 0.0010\n",
            "Epoch 46/50\n",
            "27/27 [==============================] - ETA: 0s - loss: 0.0681 - accuracy: 0.9774\n",
            "Epoch 46: val_accuracy did not improve from 0.80000\n",
            "27/27 [==============================] - 18s 661ms/step - loss: 0.0681 - accuracy: 0.9774 - val_loss: 1.5807 - val_accuracy: 0.7167 - lr: 0.0010\n",
            "Epoch 47/50\n",
            "27/27 [==============================] - ETA: 0s - loss: 0.0265 - accuracy: 0.9944\n",
            "Epoch 47: val_accuracy improved from 0.80000 to 0.82500, saving model to model.h5\n",
            "27/27 [==============================] - 17s 635ms/step - loss: 0.0265 - accuracy: 0.9944 - val_loss: 1.2038 - val_accuracy: 0.8250 - lr: 0.0010\n",
            "Epoch 48/50\n",
            "27/27 [==============================] - ETA: 0s - loss: 0.0692 - accuracy: 0.9815\n",
            "Epoch 48: val_accuracy did not improve from 0.82500\n",
            "27/27 [==============================] - 17s 634ms/step - loss: 0.0692 - accuracy: 0.9815 - val_loss: 2.1993 - val_accuracy: 0.7417 - lr: 0.0010\n",
            "Epoch 49/50\n",
            "27/27 [==============================] - ETA: 0s - loss: 0.0679 - accuracy: 0.9852\n",
            "Epoch 49: val_accuracy did not improve from 0.82500\n",
            "27/27 [==============================] - 18s 691ms/step - loss: 0.0679 - accuracy: 0.9852 - val_loss: 2.5428 - val_accuracy: 0.6833 - lr: 0.0010\n",
            "Epoch 50/50\n",
            "27/27 [==============================] - ETA: 0s - loss: 0.1312 - accuracy: 0.9741\n",
            "Epoch 50: val_accuracy did not improve from 0.82500\n",
            "27/27 [==============================] - 17s 633ms/step - loss: 0.1312 - accuracy: 0.9741 - val_loss: 1.9988 - val_accuracy: 0.6833 - lr: 0.0010\n"
          ]
        }
      ],
      "source": [
        "# Fit model\n",
        "batch_size = 64\n",
        "history=model.fit(\n",
        "      train_generator,\n",
        "      steps_per_epoch=len(train_generator.filenames) // batch_size,\n",
        "      epochs=50,\n",
        "      validation_data=validation_generator,\n",
        "      validation_steps=len(validation_generator.filenames) // batch_size,\n",
        "      callbacks=callbacks_list\n",
        "      )"
      ]
    },
    {
      "cell_type": "markdown",
      "source": [
        "## Evaluate Model"
      ],
      "metadata": {
        "id": "V8RMfXXeYeJh"
      }
    },
    {
      "cell_type": "code",
      "execution_count": null,
      "metadata": {
        "colab": {
          "base_uri": "https://localhost:8080/",
          "height": 295
        },
        "id": "6UCGui6nNNQV",
        "outputId": "4830572e-fc9c-4188-ce83-de610c3cbd1f"
      },
      "outputs": [
        {
          "output_type": "display_data",
          "data": {
            "text/plain": [
              "<Figure size 432x288 with 1 Axes>"
            ],
            "image/png": "[encoded data removed]"
          },
          "metadata": {
            "needs_background": "light"
          }
        }
      ],
      "source": [
        "# summarize history for accuracy\n",
        "plt.plot(history.history['accuracy'], label='train')\n",
        "plt.plot(history.history['val_accuracy'], label='val')\n",
        "plt.title('model accuracy')\n",
        "plt.ylabel('accuracy')\n",
        "plt.xlabel('epoch')\n",
        "plt.legend()\n",
        "plt.show()"
      ]
    },
    {
      "cell_type": "code",
      "execution_count": null,
      "metadata": {
        "colab": {
          "base_uri": "https://localhost:8080/",
          "height": 295
        },
        "id": "OGvCh1b7Tj9-",
        "outputId": "40bd3d1e-723a-424b-ad99-caa5931b147f"
      },
      "outputs": [
        {
          "output_type": "display_data",
          "data": {
            "text/plain": [
              "<Figure size 432x288 with 1 Axes>"
            ],
            "image/png": "[encoded data removed]"
          },
          "metadata": {
            "needs_background": "light"
          }
        }
      ],
      "source": [
        "# summarize history for loss\n",
        "plt.plot(history.history['loss'], label='train')\n",
        "plt.plot(history.history['val_loss'], label='val')\n",
        "plt.title('model loss')\n",
        "plt.ylabel('loss')\n",
        "plt.xlabel('epoch')\n",
        "plt.legend()\n",
        "plt.show()"
      ]
    },
    {
      "cell_type": "code",
      "execution_count": null,
      "metadata": {
        "id": "ZKEl4eMCthMT"
      },
      "outputs": [],
      "source": [
        "# save model\n",
        "model_json = model.to_json()\n",
        "with open(\"model.json\", \"w\") as json_file:\n",
        "    json_file.write(model_json)"
      ]
    },
    {
      "cell_type": "code",
      "source": [
        "!cp /content/model.h5 /content/drive/MyDrive/Learning/DTS/Task/DemoDay/model.h5"
      ],
      "metadata": {
        "id": "IKu_3-JRYDRO"
      },
      "execution_count": null,
      "outputs": []
    },
    {
      "cell_type": "code",
      "source": [
        "!cp /content/model.json /content/drive/MyDrive/Learning/DTS/Task/DemoDay/model.json"
      ],
      "metadata": {
        "id": "ZVhRUhj1YN5O"
      },
      "execution_count": null,
      "outputs": []
    },
    {
      "cell_type": "code",
      "source": [
        ""
      ],
      "metadata": {
        "id": "ubJgBzaRbqKS"
      },
      "execution_count": null,
      "outputs": []
    }
  ],
  "metadata": {
    "accelerator": "GPU",
    "colab": {
      "collapsed_sections": [],
      "name": "Pengenalan Citra Alphabet BISINDO.ipynb",
      "provenance": []
    },
    "gpuClass": "standard",
    "kernelspec": {
      "display_name": "Python 3",
      "language": "python",
      "name": "python3"
    },
    "language_info": {
      "codemirror_mode": {
        "name": "ipython",
        "version": 3
      },
      "file_extension": ".py",
      "mimetype": "text/x-python",
      "name": "python",
      "nbconvert_exporter": "python",
      "pygments_lexer": "ipython3",
      "version": "3.7.8"
    }
  },
  "nbformat": 4,
  "nbformat_minor": 0
}